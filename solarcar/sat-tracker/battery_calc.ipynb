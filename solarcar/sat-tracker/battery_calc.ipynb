{
 "cells": [
  {
   "cell_type": "markdown",
   "metadata": {},
   "source": [
    "# Battery Calculations\n",
    "\n",
    "This is a second attempt to calculate battery requirements for a custom made satellite tracker that needs to last 2 weeks.\n",
    "\n",
    "The first attempt is located [here](https://github.com/ssfivy/blackbox-hw/wiki)\n",
    "\n",
    "Alternatively, [this module](https://www.globalstar.com/en-us/products/embedded-solutions/st100) looks like it can do almost everything we are trying to do, plus already includes antenna  + certifications!\n",
    "\n",
    "## Constraints"
   ]
  },
  {
   "cell_type": "markdown",
   "metadata": {},
   "source": [
    "### Power supply constraints - Volume & Weight\n",
    "The entire thing needs to sit inside a sealed box. We have the external box volume but not internal dimensions, so lets approximate it and say the box is 5mm thick (we don't want to cut things this close anyway)\n",
    "\n",
    "The entire thing also has an upper limit of weight including contents, which is 5kg. We don't know the weight of the box but for now let us assume it is 500gr."
   ]
  },
  {
   "cell_type": "code",
   "execution_count": 132,
   "metadata": {},
   "outputs": [],
   "source": [
    "# minus 5 mm on both sides in each dimension\n",
    "box_volume_mm3 = (200-10) * (150-10) * (100-10 )\n",
    "# minus 5000gr box weight\n",
    "box_weight_kg = 5 - 0.500"
   ]
  },
  {
   "cell_type": "markdown",
   "metadata": {},
   "source": [
    "### Power supply constraints - Battery technology\n",
    "Our major limitation is the energy density.\n",
    "We have two options: Rechargeable vs non-rechargeable batteries.\n",
    "Prime candidate for rechargeable is the Panasonic NCR18650B cells - sturdy cells from trustworthy manufacturers which is not likely to catch on fire.\n",
    "For non-rechargeable, our candidate is the Energiser Ultimate Lithium - high energy density with good temperature range.\n",
    "\n",
    "Since measuring battery capacity is another whole topic on its own, we will simply use a rough approximation of using mAh rating x nominal voltage to get energy capacity.\n",
    "\n",
    "Sources:\n",
    "- http://www.batteryspace.com/prod-specs/NCR18650B.pdf\n",
    "- https://data.energizer.com/pdfs/l91.pdf"
   ]
  },
  {
   "cell_type": "code",
   "execution_count": 133,
   "metadata": {},
   "outputs": [
    {
     "name": "stdout",
     "output_type": "stream",
     "text": [
      "panasonic : Energy per cell (Joules) : 42120.00\n",
      "panasonic : Energy density (Wh/kg) : 243.00\n",
      "panasonic : Energy density (Wh/mm3) : 0.0006760\n",
      "\n",
      "energizer : Energy per cell (Joules) : 18900.00\n",
      "energizer : Energy density (Wh/kg) : 350.00\n",
      "energizer : Energy density (Wh/mm3) : 0.0006296\n",
      "\n"
     ]
    }
   ],
   "source": [
    "import math\n",
    "\n",
    "cell = {'panasonic':{}, 'energizer':{}}\n",
    "cell['panasonic']['weight_kg'] = 0.0485\n",
    "cell['panasonic']['volume_mm3'] = math.pi*((18.5/2)**2) * 65.3\n",
    "cell['panasonic']['energy_Ah'] = 3.250\n",
    "cell['panasonic']['voltage_nominal_V'] = 3.6\n",
    "\n",
    "cell['panasonic']['energy_J'] =  cell['panasonic']['energy_Ah'] *  cell['panasonic']['voltage_nominal_V'] * 3600\n",
    "cell['panasonic']['energydensity_WhperKg'] = 243 # from datasheet\n",
    "cell['panasonic']['energydensity_Whpermm3'] = 676 / 1000000 # from datasheet / 1000000 mm3 in a liter\n",
    "\n",
    "cell['energizer']['weight_kg'] = 0.015\n",
    "cell['energizer']['volume_mm3'] = math.pi*((14.5/2)**2) * 50.5 # worst case\n",
    "#cell['energizer']['volume_mm3'] = math.pi*((14.5/2)**2) * 49 + math.pi*((5.5/2)**2) * 1 # more accurate\n",
    "cell['energizer']['energy_Ah'] = 3.500\n",
    "cell['energizer']['voltage_nominal_V'] = 1.5\n",
    "\n",
    "cell['energizer']['energy_J'] =  cell['energizer']['energy_Ah'] *  cell['energizer']['voltage_nominal_V'] * 3600\n",
    "cell['energizer']['energydensity_WhperKg'] =  cell['energizer']['energy_Ah'] *  cell['energizer']['voltage_nominal_V'] / cell['energizer']['weight_kg']\n",
    "cell['energizer']['energydensity_Whpermm3'] = cell['energizer']['energy_Ah'] *  cell['energizer']['voltage_nominal_V'] / cell['energizer']['volume_mm3']\n",
    "\n",
    "def print_energy_calcs(cell_type):\n",
    "    print('{} : Energy per cell (Joules) : {:.2f}'.format(\n",
    "        cell_type, cell[cell_type]['energy_J']))\n",
    "    print('{} : Energy density (Wh/kg) : {:.2f}'.format(\n",
    "        cell_type, cell[cell_type]['energydensity_WhperKg'])) \n",
    "    print('{} : Energy density (Wh/mm3) : {:.7f}'.format(\n",
    "        cell_type, cell[cell_type]['energydensity_Whpermm3'])) \n",
    "    print('')\n",
    "\n",
    "print_energy_calcs('panasonic')\n",
    "print_energy_calcs('energizer')"
   ]
  },
  {
   "cell_type": "markdown",
   "metadata": {},
   "source": [
    "### Power usage constraints - Time\n",
    "The event will last one full week, however the devices will be installed in scrutineering in the week before. It would be nice to see the data flowing in in preparation for the event beforehand too. So from Monday week 1 to Saturday week 2 is a total of 13 days, and our power must be available all this time.\n",
    "\n",
    "We can optimise by not being active at night when nothing happened, effectively curring power usage in half."
   ]
  },
  {
   "cell_type": "code",
   "execution_count": 134,
   "metadata": {},
   "outputs": [],
   "source": [
    "total_uptime_secs = 13 * 86400 # days x seconds/day\n",
    "total_uptime_secs_optimised = total_uptime_secs / 2"
   ]
  },
  {
   "cell_type": "markdown",
   "metadata": {},
   "source": [
    "### Power usage constraints - Satellite Modems\n",
    "There are several satellite modems available. They don't have ultra-detailed power consumption graphs, so we are missing a particularly important value: the length of time those devices stay in transmit mode, with the extremely high power consumption. We will simply pick a reporesentative device from each provider and use some reasonable averaging / guesstimate for this initial calculation.\n",
    "\n",
    "#### Globalstar [STX3 Module](https://www.globalstar.com/Globalstar/media/Globalstar/Downloads/Products/STX3/STX3-Sell-Sheet.pdf)\n",
    "- Voltage: 3.3V\n",
    "- Active mode: 2.5 mA\n",
    "- Transmit mode: 350mA\n",
    "\n",
    "#### Iridium [Rockblock 9603](https://www.adafruit.com/product/4521)\n",
    "- Idle current (average): 35 mA\n",
    "- Idle current (peak): 170 mA (provisional value)\n",
    "- Transmit current (peak): 1.3 A\n",
    "- Transmit current (average): 140 mA\n",
    "- Receive current (peak): 170 mA (provisional value)\n",
    "- Receive current (average): 40 mA\n",
    "- SBD message transfer (average current): 150 mA\n",
    "- SBD message transfer (average power): ≤ 0.8 W\n",
    "\n",
    "#### Orbcomm [OGI](https://m2mconnectivity.com.au/downloads/Data%20Sheets/Products%20-%20Modems/OG2-OGi-Satellite-Modems.pdf)\n",
    "- Voltage: 5-15V - nominal 12V\n",
    "- Transmit mode: 750mA @ 12V\n",
    "- Receive mode : 80mA @ 12V\n",
    "\n",
    "#### Inmarsat & Thuraya\n",
    "- could not find embedded module specs, skipped\n",
    "\n",
    "#### Summary\n",
    "- Let's use the average values for Iridium SBD for best case power, and double that for worst case"
   ]
  },
  {
   "cell_type": "code",
   "execution_count": 135,
   "metadata": {},
   "outputs": [],
   "source": [
    "satmodem = {'best':{}, 'worst':{}}\n",
    "satmodem['best']['average_power_W'] = 0.8\n",
    "satmodem['worst']['average_power_W'] = 2"
   ]
  },
  {
   "cell_type": "markdown",
   "metadata": {},
   "source": [
    "### Power usage constraints - GPS receiver\n",
    "\n",
    "Like the sat modems, there's no power consumption graphs, and there's too many vendors out there. So let us pick one that we can get good information / supply for and use that as a representative sample.\n",
    "\n",
    "There is one power drain scenario that we need to avoid: GPS / Satmodem getting stuck in initialisation mode trying to find satellites while the car is inside a building. We can add a timeout to this initialisation mode (say 30s) and do not attempt again until we have moved, which we can detect using an accelerometer.\n",
    "\n",
    "We can add another optimisation: Do not turn on the satmodem unless we have a GPS lock, so we only have one device detecting the sky as opposed to two.\n",
    "\n",
    "For now, let's assume a worst case scenario where the GPS is in acqusition mode for 10% of the entire event period.\n",
    "\n",
    "- uBlox Neo-M9N  https://www.sparkfun.com/products/15712\n",
    "- alternative: the Adafruit Ultimate GPs seems to have better power figures"
   ]
  },
  {
   "cell_type": "code",
   "execution_count": 136,
   "metadata": {},
   "outputs": [],
   "source": [
    "gps_acqusition_power_W = 0.100 * 3 # 100mA * 3V\n",
    "gps_runtime_power_W = 0.030 * 3 # 30mA x 3V\n",
    "gps_average_power_W = gps_acqusition_power_W * 0.1 + gps_runtime_power_W * 0.9"
   ]
  },
  {
   "cell_type": "markdown",
   "metadata": {},
   "source": [
    "### Power usage constraints -  Processors\n",
    "We can either go Linux-based or microcontroller-based here. Linux-based will consume more power but allows more extensive features in device.Microcontroller-based is likely more robust.\n",
    "We pick a raspi zero w for Linux because someone has run the numbers and a STM32L451 for micro because I am familiar with ST's stuff.\n",
    "\n",
    "For microcontroller, we take the power consumption of running at 80MHz with PLL and no peripherals. It should be usable as a rough figure for battery estimation considering we only need a 2-week uptime instead of years, especially if we then run it at lower clocks and bypass PLL to compensate for enabled peripherals.\n",
    "\n",
    "We might want to look into a bluetooth-enabled microcontroller in practice, but bluetooth feature will not be used often, so the power consumption should be negligible. (e.g. we might only enable bluetooth when accelerometer detect no movement for a while, or we know GPS speed is very low)\n",
    "\n",
    "- https://www.jeffgeerling.com/blogs/jeff-geerling/raspberry-pi-zero-power\n",
    "- https://www.st.com/content/st_com/en/products/microcontrollers-microprocessors/stm32-32-bit-arm-cortex-mcus/stm32-ultra-low-power-mcus/stm32l4-series/stm32l4x1/stm32l451re.html#resource"
   ]
  },
  {
   "cell_type": "code",
   "execution_count": 137,
   "metadata": {},
   "outputs": [],
   "source": [
    "raspi0_linux_power_W = 0.080 * 5 # 80mA * 5V\n",
    "stm32_micro_power_W = 0.010 * 3.3 # 10mA * 3.3V"
   ]
  },
  {
   "cell_type": "markdown",
   "metadata": {},
   "source": [
    "### Power usage constraints - Miscellaneous\n",
    "Miscellaneous power usage such as extra chips, power supply inneficiency, etc\n",
    "\n",
    "#### Data logging flash chips\n",
    "I compared 3 datasheets (Digikey: 706-1639-ND , W25Q512JVFIQ-ND , 428-4421-1-ND ) and they all seem roughly similar - let's assume 50mA consumption for writing, writing every 5 mins that took 2 second.\n",
    "There should be enough time there to add an EEPROM chip in case we want to cache stuff too.\n",
    "\n",
    "#### Accelerometer\n",
    "Let's add an accelerometer. ST LSM9DS1 in Sparkfun breakout board: https://www.sparkfun.com/products/13284. Without the gyroscope, it only consumes less than 1mA at runtime. since this is so low we can just skip calculating these to simplify a bit\n",
    "\n",
    "#### Other inefficiencies\n",
    "Let's assume 5mA at 3V3 is dissipated in other places.\n"
   ]
  },
  {
   "cell_type": "code",
   "execution_count": 138,
   "metadata": {},
   "outputs": [],
   "source": [
    "flash_chip_average_W = 0.030 * 3.3 * 2 / 300 # 30mA * 3.3V * 2 s / 300 s\n",
    "other_average_W = 0.005 * 3.3\n",
    "misc_power_average_W = flash_chip_average_W + other_average_W\n",
    "#print(misc_power_average_W)"
   ]
  },
  {
   "cell_type": "markdown",
   "metadata": {},
   "source": [
    "## Calculations"
   ]
  },
  {
   "cell_type": "markdown",
   "metadata": {},
   "source": [
    "### Power usage\n",
    "We have several constraints with several options each. Since creating a full combination matrix can get really messy, let's start off with best-case and worst-case scenario."
   ]
  },
  {
   "cell_type": "code",
   "execution_count": 139,
   "metadata": {},
   "outputs": [
    {
     "name": "stdout",
     "output_type": "stream",
     "text": [
      "539787.456\n",
      "2427414.912\n",
      "2839629.3120000004\n"
     ]
    }
   ],
   "source": [
    "case = {'best':{}, 'mixed1':{}, 'worst':{}}\n",
    "\n",
    "# Best case: Optimised time, most efficient satmodems, few acqusition time, stm32 micro.\n",
    "case['best']['average_power_W'] = satmodem['best']['average_power_W'] + gps_average_power_W + stm32_micro_power_W + misc_power_average_W\n",
    "case['best']['total_energy_J'] = case['best']['average_power_W'] * total_uptime_secs_optimised\n",
    "print(case['best']['total_energy_J'])\n",
    "\n",
    "# Mixed case 1: Full time, powerhog modems, long acqusition time, stm32 micro (no linux).\n",
    "case['mixed1']['average_power_W'] = satmodem['worst']['average_power_W'] + gps_average_power_W + stm32_micro_power_W + misc_power_average_W\n",
    "case['mixed1']['total_energy_J'] = case['mixed1']['average_power_W'] * total_uptime_secs\n",
    "print(case['mixed1']['total_energy_J'])\n",
    "\n",
    "# Worst case: Full time, powerhog modems, long acqusition time, Linux processor\n",
    "case['worst']['average_power_W'] = satmodem['worst']['average_power_W'] + gps_average_power_W + raspi0_linux_power_W + misc_power_average_W\n",
    "case['worst']['total_energy_J'] = case['worst']['average_power_W'] * total_uptime_secs\n",
    "print(case['worst']['total_energy_J'])"
   ]
  },
  {
   "cell_type": "markdown",
   "metadata": {},
   "source": [
    "### Power storage\n",
    "Again, we have several constraints with several options each, so let's go with a worst and best case scenario.\n",
    "We define functions to calculate the number of cells, volume, and weight needed for a given amount of energy consumption."
   ]
  },
  {
   "cell_type": "code",
   "execution_count": 140,
   "metadata": {},
   "outputs": [
    {
     "name": "stdout",
     "output_type": "stream",
     "text": [
      "With panasonic batteries, we need 13 cells that occupies 228186.46 mm3 and 0.63 kg\n",
      "This takes 9.53 % of volume and 14.01 % of weight capacity\n",
      "note the figures above does not count electronics, wiring, etc\n",
      "\n",
      "With energizer batteries, we need 29 cells that occupies 241832.83 mm3 and 0.43 kg\n",
      "This takes 10.10 % of volume and 9.67 % of weight capacity\n",
      "note the figures above does not count electronics, wiring, etc\n",
      "\n",
      "With panasonic batteries, we need 58 cells that occupies 1018062.67 mm3 and 2.81 kg\n",
      "This takes 42.53 % of volume and 62.51 % of weight capacity\n",
      "note the figures above does not count electronics, wiring, etc\n",
      "\n",
      "With energizer batteries, we need 129 cells that occupies 1075739.15 mm3 and 1.93 kg\n",
      "This takes 44.93 % of volume and 43.00 % of weight capacity\n",
      "note the figures above does not count electronics, wiring, etc\n",
      "\n",
      "With panasonic batteries, we need 68 cells that occupies 1193590.72 mm3 and 3.30 kg\n",
      "This takes 49.86 % of volume and 73.29 % of weight capacity\n",
      "note the figures above does not count electronics, wiring, etc\n",
      "\n",
      "With energizer batteries, we need 151 cells that occupies 1259198.54 mm3 and 2.27 kg\n",
      "This takes 52.60 % of volume and 50.33 % of weight capacity\n",
      "note the figures above does not count electronics, wiring, etc\n",
      "\n"
     ]
    }
   ],
   "source": [
    "def calc_battery(energy_J, battery_type):\n",
    "    cell_count = math.ceil(energy_J / cell[battery_type]['energy_J'])\n",
    "    cell_volume = cell_count * cell[battery_type]['volume_mm3']\n",
    "    cell_weight = cell_count * cell[battery_type]['weight_kg']\n",
    "    print('With {} batteries, we need {} cells that occupies {:.2f} mm3 and {:.2f} kg'.format(\n",
    "        battery_type, cell_count, cell_volume, cell_weight))\n",
    "    print('This takes {:.2f} % of volume and {:.2f} % of weight capacity'.format(\n",
    "        100 * cell_volume / box_volume_mm3, 100 * cell_weight / box_weight_kg))\n",
    "    print('note the figures above does not count electronics, wiring, etc\\n')\n",
    "\n",
    "print('Best case:')\n",
    "calc_battery(case['best']['total_energy_J'], 'panasonic')\n",
    "calc_battery(case['best']['total_energy_J'], 'energizer')\n",
    "print('Mixed case 1:')\n",
    "calc_battery(case['mixed1']['total_energy_J'], 'panasonic')\n",
    "calc_battery(case['mixed1']['total_energy_J'], 'energizer')\n",
    "print('Worst case:')\n",
    "calc_battery(case['worst']['total_energy_J'], 'panasonic')\n",
    "calc_battery(case['worst']['total_energy_J'], 'energizer')"
   ]
  },
  {
   "cell_type": "code",
   "execution_count": null,
   "metadata": {},
   "outputs": [],
   "source": []
  }
 ],
 "metadata": {
  "kernelspec": {
   "display_name": "Python 3",
   "language": "python",
   "name": "python3"
  },
  "language_info": {
   "codemirror_mode": {
    "name": "ipython",
    "version": 3
   },
   "file_extension": ".py",
   "mimetype": "text/x-python",
   "name": "python",
   "nbconvert_exporter": "python",
   "pygments_lexer": "ipython3",
   "version": "3.8.2"
  }
 },
 "nbformat": 4,
 "nbformat_minor": 4
}
