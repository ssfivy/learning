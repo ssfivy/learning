{
 "cells": [
  {
   "cell_type": "markdown",
   "metadata": {},
   "source": [
    "# Battery Calculations\n",
    "\n",
    "This is a second attempt to calculate battery requirements for a custom made satellite tracker that needs to last 2 weeks.\n",
    "\n",
    "The first attempt is located [here](https://github.com/ssfivy/blackbox-hw/wiki)\n",
    "\n",
    "## Constraints"
   ]
  },
  {
   "cell_type": "markdown",
   "metadata": {},
   "source": [
    "### Power supply constraints - Volume & Weight\n",
    "The entire thing needs to sit inside a sealed box. We have the external box volume but not internal dimensions, so lets approximate it and say the box is 5mm thick (we don't want to cut things this close anyway)\n",
    "\n",
    "The entire thing also has an upper limit of weight including contents, which is 5kg. We don't know the weight of the box but for now let us assume it is 500gr."
   ]
  },
  {
   "cell_type": "code",
   "execution_count": 78,
   "metadata": {},
   "outputs": [],
   "source": [
    "# minus 5 mm on both sides in each dimension\n",
    "box_volume_mm3 = (200-10) * (150-10) * (100-10 )\n",
    "# minus 5000gr box weight\n",
    "box_weight_kg = 5 - 0.500"
   ]
  },
  {
   "cell_type": "markdown",
   "metadata": {},
   "source": [
    "### Power supply constraints - Battery technology\n",
    "Our major limitation is the energy density.\n",
    "We have two options: Rechargeable vs non-rechargeable batteries.\n",
    "Prime candidate for rechargeable is the Panasonic NCR18650B cells - sturdy cells from trustworthy manufacturers which is not likely to catch on fire.\n",
    "For non-rechargeable, our candidate is the Energiser Ultimate Lithium - high energy density with good temperature range.\n",
    "\n",
    "Since measuring battery capacity is another whole topic on its own, we will simply use a rough approximation of using mAh rating x nominal voltage to get energy capacity.\n",
    "\n",
    "Sources:\n",
    "- http://www.batteryspace.com/prod-specs/NCR18650B.pdf\n",
    "- https://data.energizer.com/pdfs/l91.pdf"
   ]
  },
  {
   "cell_type": "code",
   "execution_count": 79,
   "metadata": {},
   "outputs": [
    {
     "name": "stdout",
     "output_type": "stream",
     "text": [
      "panasonic : Energy per cell (Joules) : 42120.00\n",
      "panasonic : Energy density (Wh/kg) : 243.00\n",
      "panasonic : Energy density (Wh/mm3) : 0.0006760\n",
      "\n",
      "energizer : Energy per cell (Joules) : 18900.00\n",
      "energizer : Energy density (Wh/kg) : 350.00\n",
      "energizer : Energy density (Wh/mm3) : 0.0006296\n",
      "\n"
     ]
    }
   ],
   "source": [
    "import math\n",
    "\n",
    "cell = {'panasonic':{}, 'energizer':{}}\n",
    "cell['panasonic']['weight_kg'] = 0.0485\n",
    "cell['panasonic']['volume_mm3'] = math.pi*((18.5/2)**2) * 65.3\n",
    "cell['panasonic']['energy_Ah'] = 3.250\n",
    "cell['panasonic']['voltage_nominal_V'] = 3.6\n",
    "\n",
    "cell['panasonic']['energy_J'] =  cell['panasonic']['energy_Ah'] *  cell['panasonic']['voltage_nominal_V'] * 3600\n",
    "cell['panasonic']['energydensity_WhperKg'] = 243 # from datasheet\n",
    "cell['panasonic']['energydensity_Whpermm3'] = 676 / 1000000 # from datasheet / 1000000 mm3 in a liter\n",
    "\n",
    "cell['energizer']['weight_kg'] = 0.015\n",
    "cell['energizer']['volume_mm3'] = math.pi*((14.5/2)**2) * 50.5 # worst case\n",
    "#cell['energizer']['volume_mm3'] = math.pi*((14.5/2)**2) * 49 + math.pi*((5.5/2)**2) * 1 # more accurate\n",
    "cell['energizer']['energy_Ah'] = 3.500\n",
    "cell['energizer']['voltage_nominal_V'] = 1.5\n",
    "\n",
    "cell['energizer']['energy_J'] =  cell['energizer']['energy_Ah'] *  cell['energizer']['voltage_nominal_V'] * 3600\n",
    "cell['energizer']['energydensity_WhperKg'] =  cell['energizer']['energy_Ah'] *  cell['energizer']['voltage_nominal_V'] / cell['energizer']['weight_kg']\n",
    "cell['energizer']['energydensity_Whpermm3'] = cell['energizer']['energy_Ah'] *  cell['energizer']['voltage_nominal_V'] / cell['energizer']['volume_mm3']\n",
    "\n",
    "def print_energy_calcs(cell_type):\n",
    "    print('{} : Energy per cell (Joules) : {:.2f}'.format(\n",
    "        cell_type, cell[cell_type]['energy_J']))\n",
    "    print('{} : Energy density (Wh/kg) : {:.2f}'.format(\n",
    "        cell_type, cell[cell_type]['energydensity_WhperKg'])) \n",
    "    print('{} : Energy density (Wh/mm3) : {:.7f}'.format(\n",
    "        cell_type, cell[cell_type]['energydensity_Whpermm3'])) \n",
    "    print('')\n",
    "\n",
    "print_energy_calcs('panasonic')\n",
    "print_energy_calcs('energizer')"
   ]
  },
  {
   "cell_type": "markdown",
   "metadata": {},
   "source": [
    "### Power usage constraints - Time\n",
    "The event will last one full week, however the devices will be installed in scrutineering in the week before. It would be nice to see the data flowing in in preparation for the event beforehand too. So from Monday week 1 to Saturday week 2 is a total of 13 days, and our power must be available all this time.\n",
    "\n",
    "We can optimise by not being active at night when nothing happened, effectively curring power usage in half."
   ]
  },
  {
   "cell_type": "code",
   "execution_count": 80,
   "metadata": {},
   "outputs": [],
   "source": [
    "total_uptime_secs = 13 * 86400 # days x seconds/day\n",
    "total_uptime_secs_optimised = total_uptime_secs / 2"
   ]
  },
  {
   "cell_type": "markdown",
   "metadata": {},
   "source": [
    "### Power usage constraints - Satellite Modems\n",
    "There are several satellite modems available. They don't have ultra-detailed power consumption graphs, so we are missing a particularly important value: the length of time those devices stay in transmit mode, with the extremely high power consumption. We will simply pick a reporesentative device from each provider and use some reasonable averaging / guesstimate for this initial calculation.\n",
    "\n",
    "#### Globalstar\n",
    "#### Inmarsat\n",
    "#### Iridium\n",
    "#### Thuraya"
   ]
  },
  {
   "cell_type": "code",
   "execution_count": 81,
   "metadata": {},
   "outputs": [],
   "source": [
    "# TODO FIXME"
   ]
  },
  {
   "cell_type": "markdown",
   "metadata": {},
   "source": [
    "### Power usage constraints - GPS receiver\n",
    "\n",
    "Like the sat modems, there's no power consumption graphs, and there's too many vendors out there. So let us pick one that we can get good information / supply for and use that as a representative sample.\n",
    "\n",
    "- uBlox Neo-M9N  https://www.sparkfun.com/products/15712\n",
    "- alternative: the Adafruit Ultimate GPs seems to have better power figures"
   ]
  },
  {
   "cell_type": "code",
   "execution_count": 82,
   "metadata": {},
   "outputs": [],
   "source": [
    "gps_acqusition_power_W = 0.100 * 3 # 100mA * 3V\n",
    "gps_runtime_power_W = 0.030 * 3 # 30mA x 3V\n",
    "# TODO FIXME: How long is acqusition and how long is runtime?"
   ]
  },
  {
   "cell_type": "markdown",
   "metadata": {},
   "source": [
    "### Power usage constraints -  Processors\n",
    "We can either go Linux-based or microcontroller-based here. Linux-based will consume more power but allows more extensive features in device.Microcontroller-based is likely more robust.\n",
    "We pick a raspi zero w for Linux because someone has run the numbers and a STM32L451 for micro because I am familiar with ST's stuff.\n",
    "\n",
    "For microcontroller, we take the power consumption of running at 80MHz with PLL and no peripherals. It should be usable as a rough figure for battery estimation considering we only need a 2-week uptime instead of years, especially if we then run it at lower clocks and bypass PLL to compensate for enabled peripherals.\n",
    "\n",
    "- https://www.jeffgeerling.com/blogs/jeff-geerling/raspberry-pi-zero-power\n",
    "- https://www.st.com/content/st_com/en/products/microcontrollers-microprocessors/stm32-32-bit-arm-cortex-mcus/stm32-ultra-low-power-mcus/stm32l4-series/stm32l4x1/stm32l451re.html#resource"
   ]
  },
  {
   "cell_type": "code",
   "execution_count": 83,
   "metadata": {},
   "outputs": [],
   "source": [
    "raspi0_linux_power_W = 0.080 * 5 # 80mA * 5V\n",
    "stm32_micro_power_W = 0.010 * 3.3 # 10mA * 3.3V"
   ]
  },
  {
   "cell_type": "markdown",
   "metadata": {},
   "source": [
    "### Power usage constraints - Miscellaneous\n",
    "Miscellaneous power usage such as extra chips, power supply inneficiency, etc\n",
    "Numbers pulled out of thin air by me."
   ]
  },
  {
   "cell_type": "code",
   "execution_count": 84,
   "metadata": {},
   "outputs": [],
   "source": [
    "# TODO FIXME"
   ]
  },
  {
   "cell_type": "markdown",
   "metadata": {},
   "source": [
    "## Calculations"
   ]
  },
  {
   "cell_type": "markdown",
   "metadata": {},
   "source": [
    "### Power usage\n",
    "We have several constraints with several options each. Since creating a full combination matrix can get really messy, let's start off with best-case and worst-case scenario."
   ]
  },
  {
   "cell_type": "code",
   "execution_count": 85,
   "metadata": {},
   "outputs": [
    {
     "name": "stdout",
     "output_type": "stream",
     "text": [
      "69076.8\n",
      "550368.0\n"
     ]
    }
   ],
   "source": [
    "case = {'best':{}, 'worst':{}}\n",
    "\n",
    "# Best case: Optimised time, most efficient satmodems, few acqusition time, stm32 micro.\n",
    "\n",
    "case['best']['average_power_W'] = gps_runtime_power_W + stm32_micro_power_W\n",
    "case['best']['total_energy_J'] = case['best']['average_power_W'] * total_uptime_secs_optimised\n",
    "print(case['best']['total_energy_J'])\n",
    "\n",
    "# Worst case: Full time, powerhog modems, long acqusition time, Linux processor\n",
    "case['worst']['average_power_W'] = gps_runtime_power_W + raspi0_linux_power_W\n",
    "case['worst']['total_energy_J'] = case['worst']['average_power_W'] * total_uptime_secs\n",
    "print(case['worst']['total_energy_J'])"
   ]
  },
  {
   "cell_type": "markdown",
   "metadata": {},
   "source": [
    "### Power storage\n",
    "Again, we have several constraints with several options each, so let's go with a worst and best case scenario.\n",
    "We define functions to calculate the number of cells, volume, and weight needed for a given amount of energy consumption."
   ]
  },
  {
   "cell_type": "code",
   "execution_count": 86,
   "metadata": {},
   "outputs": [
    {
     "name": "stdout",
     "output_type": "stream",
     "text": [
      "With panasonic batteries, we need 2 cells that occupies 35105.61 mm3 and 0.10 kg\n",
      "This takes 0.01 % of volume and 0.02 % of weight capacity\n",
      "note the figures above does not count electronics, wiring, etc\n",
      "\n",
      "With energizer batteries, we need 4 cells that occupies 33356.25 mm3 and 0.06 kg\n",
      "This takes 0.01 % of volume and 0.01 % of weight capacity\n",
      "note the figures above does not count electronics, wiring, etc\n",
      "\n",
      "With panasonic batteries, we need 14 cells that occupies 245739.27 mm3 and 0.68 kg\n",
      "This takes 0.10 % of volume and 0.15 % of weight capacity\n",
      "note the figures above does not count electronics, wiring, etc\n",
      "\n",
      "With energizer batteries, we need 30 cells that occupies 250171.90 mm3 and 0.45 kg\n",
      "This takes 0.10 % of volume and 0.10 % of weight capacity\n",
      "note the figures above does not count electronics, wiring, etc\n",
      "\n"
     ]
    }
   ],
   "source": [
    "def calc_battery(energy_J, battery_type):\n",
    "    cell_count = math.ceil(energy_J / cell[battery_type]['energy_J'])\n",
    "    cell_volume = cell_count * cell[battery_type]['volume_mm3']\n",
    "    cell_weight = cell_count * cell[battery_type]['weight_kg']\n",
    "    print('With {} batteries, we need {} cells that occupies {:.2f} mm3 and {:.2f} kg'.format(\n",
    "        battery_type, cell_count, cell_volume, cell_weight))\n",
    "    print('This takes {:.2f} % of volume and {:.2f} % of weight capacity'.format(\n",
    "        cell_volume / box_volume_mm3, cell_weight / box_weight_kg))\n",
    "    print('note the figures above does not count electronics, wiring, etc\\n')\n",
    "\n",
    "calc_battery(case['best']['total_energy_J'], 'panasonic')\n",
    "calc_battery(case['best']['total_energy_J'], 'energizer')\n",
    "calc_battery(case['worst']['total_energy_J'], 'panasonic')\n",
    "calc_battery(case['worst']['total_energy_J'], 'energizer')"
   ]
  }
 ],
 "metadata": {
  "kernelspec": {
   "display_name": "Python 3",
   "language": "python",
   "name": "python3"
  },
  "language_info": {
   "codemirror_mode": {
    "name": "ipython",
    "version": 3
   },
   "file_extension": ".py",
   "mimetype": "text/x-python",
   "name": "python",
   "nbconvert_exporter": "python",
   "pygments_lexer": "ipython3",
   "version": "3.8.2"
  }
 },
 "nbformat": 4,
 "nbformat_minor": 4
}
